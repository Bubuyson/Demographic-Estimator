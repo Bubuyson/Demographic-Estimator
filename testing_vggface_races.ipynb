{
 "cells": [
  {
   "cell_type": "code",
   "execution_count": 67,
   "metadata": {},
   "outputs": [],
   "source": [
    "import os\n",
    "from tensorflow.keras import layers\n",
    "from tensorflow.keras import Model\n",
    "from tensorflow.keras.preprocessing.image import ImageDataGenerator\n",
    "import tensorflow as tf\n",
    "from tensorflow.keras.callbacks import ReduceLROnPlateau, ModelCheckpoint, EarlyStopping\n",
    "from tensorflow.keras.models import Sequential,load_model,save_model\n",
    "from tensorflow.keras.layers import Dense,Conv2D,Flatten,MaxPooling2D, Dropout\n",
    "from tensorflow.keras.utils import plot_model\n",
    "from keras.layers import BatchNormalization\n",
    "from keras.optimizers import Adam\n",
    "import scipy\n",
    "import numpy as np\n",
    "import matplotlib.pyplot as plt\n",
    "import matplotlib.image as mpimg\n",
    "import cv2\n",
    "import pandas as pd\n",
    "from keras_vggface.vggface import VGGFace\n",
    "from keras.layers import Input"
   ]
  },
  {
   "cell_type": "code",
   "execution_count": 79,
   "metadata": {},
   "outputs": [],
   "source": [
    "batch_size = 32\n",
    "target_size = (224, 224)\n",
    "input_shape=(224, 224, 3)\n",
    "seed=1337\n",
    "adam_lr = 0.001\n",
    "FC = 2048\n",
    "num_classes = 1\n",
    "patience = 3\n",
    "dense_dropout = 0\n",
    "cnn_dropout = 0\n",
    "verbose = 1\n",
    "factor = 0.50\n",
    "min_lr = 0.0001\n",
    "steps_per_epoch=256\n",
    "validation_steps=256\n",
    "epochs=5\n",
    "loss = 'categorical_crossentropy'\n",
    "metrics = ['accuracy']\n",
    "model_name = 'vggface_race.h5'"
   ]
  },
  {
   "cell_type": "code",
   "execution_count": 80,
   "metadata": {},
   "outputs": [],
   "source": [
    "train_data = ImageDataGenerator(rescale = 1./255,\n",
    "      rotation_range=25,\n",
    "      width_shift_range=0.2,\n",
    "      height_shift_range=0.2,\n",
    "      shear_range=0.2,\n",
    "      zoom_range=0.2,\n",
    "      horizontal_flip=True,\n",
    "      fill_mode='nearest')\n",
    "\n",
    "validation_data = ImageDataGenerator( rescale = 1.0/255)\n",
    "\n",
    "test_data = ImageDataGenerator( rescale = 1.0/255)"
   ]
  },
  {
   "cell_type": "code",
   "execution_count": 81,
   "metadata": {},
   "outputs": [
    {
     "name": "stdout",
     "output_type": "stream",
     "text": [
      "Training Data:\n",
      "Found 47009 images belonging to 2 classes.\n",
      "Validation Data:\n",
      "Found 5811 images belonging to 2 classes.\n",
      "Test Data:\n",
      "Found 5820 images belonging to 2 classes.\n"
     ]
    }
   ],
   "source": [
    "print(\"Training Data:\")\n",
    "# There are 7 different classes\n",
    "train_generator = train_data.flow_from_directory('./races/Training',\n",
    "                                                    batch_size =batch_size ,\n",
    "                                                    class_mode = 'categorical',\n",
    "                                                    seed=seed,\n",
    "                                                    target_size = target_size )     \n",
    "\n",
    "print(\"Validation Data:\")\n",
    "validation_generator =  validation_data.flow_from_directory( './races/Validation',\n",
    "                                                          batch_size  = batch_size,\n",
    "                                                          class_mode  = 'categorical',\n",
    "                                                          seed=seed,\n",
    "                                                          target_size = target_size)\n",
    "\n",
    "# print(\"Test Data:\")\n",
    "# test_generator = test_data.flow_from_directory('./races/Test',\n",
    "#                                                           batch_size  = batch_size,\n",
    "#                                                           class_mode  = 'categorical',\n",
    "#                                                           seed=seed,\n",
    "#                                                           target_size = target_size)"
   ]
  },
  {
   "cell_type": "code",
   "execution_count": 82,
   "metadata": {},
   "outputs": [],
   "source": [
    "# Based on VGG16 architecture -> old paper(2015)\n",
    "vggface = VGGFace(model='vgg16') # or VGGFace() as default"
   ]
  },
  {
   "cell_type": "code",
   "execution_count": 83,
   "metadata": {},
   "outputs": [
    {
     "name": "stdout",
     "output_type": "stream",
     "text": [
      "Model: \"vggface_vgg16\"\n",
      "_________________________________________________________________\n",
      " Layer (type)                Output Shape              Param #   \n",
      "=================================================================\n",
      " input_13 (InputLayer)       [(None, 224, 224, 3)]     0         \n",
      "                                                                 \n",
      " conv1_1 (Conv2D)            (None, 224, 224, 64)      1792      \n",
      "                                                                 \n",
      " conv1_2 (Conv2D)            (None, 224, 224, 64)      36928     \n",
      "                                                                 \n",
      " pool1 (MaxPooling2D)        (None, 112, 112, 64)      0         \n",
      "                                                                 \n",
      " conv2_1 (Conv2D)            (None, 112, 112, 128)     73856     \n",
      "                                                                 \n",
      " conv2_2 (Conv2D)            (None, 112, 112, 128)     147584    \n",
      "                                                                 \n",
      " pool2 (MaxPooling2D)        (None, 56, 56, 128)       0         \n",
      "                                                                 \n",
      " conv3_1 (Conv2D)            (None, 56, 56, 256)       295168    \n",
      "                                                                 \n",
      " conv3_2 (Conv2D)            (None, 56, 56, 256)       590080    \n",
      "                                                                 \n",
      " conv3_3 (Conv2D)            (None, 56, 56, 256)       590080    \n",
      "                                                                 \n",
      " pool3 (MaxPooling2D)        (None, 28, 28, 256)       0         \n",
      "                                                                 \n",
      " conv4_1 (Conv2D)            (None, 28, 28, 512)       1180160   \n",
      "                                                                 \n",
      " conv4_2 (Conv2D)            (None, 28, 28, 512)       2359808   \n",
      "                                                                 \n",
      " conv4_3 (Conv2D)            (None, 28, 28, 512)       2359808   \n",
      "                                                                 \n",
      " pool4 (MaxPooling2D)        (None, 14, 14, 512)       0         \n",
      "                                                                 \n",
      " conv5_1 (Conv2D)            (None, 14, 14, 512)       2359808   \n",
      "                                                                 \n",
      " conv5_2 (Conv2D)            (None, 14, 14, 512)       2359808   \n",
      "                                                                 \n",
      " conv5_3 (Conv2D)            (None, 14, 14, 512)       2359808   \n",
      "                                                                 \n",
      " pool5 (MaxPooling2D)        (None, 7, 7, 512)         0         \n",
      "                                                                 \n",
      " flatten (Flatten)           (None, 25088)             0         \n",
      "                                                                 \n",
      " fc6 (Dense)                 (None, 4096)              102764544 \n",
      "                                                                 \n",
      " fc6/relu (Activation)       (None, 4096)              0         \n",
      "                                                                 \n",
      " fc7 (Dense)                 (None, 4096)              16781312  \n",
      "                                                                 \n",
      " fc7/relu (Activation)       (None, 4096)              0         \n",
      "                                                                 \n",
      " fc8 (Dense)                 (None, 2622)              10742334  \n",
      "                                                                 \n",
      " fc8/softmax (Activation)    (None, 2622)              0         \n",
      "                                                                 \n",
      "=================================================================\n",
      "Total params: 145,002,878\n",
      "Trainable params: 145,002,878\n",
      "Non-trainable params: 0\n",
      "_________________________________________________________________\n"
     ]
    }
   ],
   "source": [
    "vggface.summary()"
   ]
  },
  {
   "cell_type": "code",
   "execution_count": 84,
   "metadata": {},
   "outputs": [
    {
     "name": "stdout",
     "output_type": "stream",
     "text": [
      "Model: \"sequential_27\"\n",
      "_________________________________________________________________\n",
      " Layer (type)                Output Shape              Param #   \n",
      "=================================================================\n",
      " conv1_1 (Conv2D)            (None, 224, 224, 64)      1792      \n",
      "                                                                 \n",
      " conv1_2 (Conv2D)            (None, 224, 224, 64)      36928     \n",
      "                                                                 \n",
      " pool1 (MaxPooling2D)        (None, 112, 112, 64)      0         \n",
      "                                                                 \n",
      " conv2_1 (Conv2D)            (None, 112, 112, 128)     73856     \n",
      "                                                                 \n",
      " conv2_2 (Conv2D)            (None, 112, 112, 128)     147584    \n",
      "                                                                 \n",
      " pool2 (MaxPooling2D)        (None, 56, 56, 128)       0         \n",
      "                                                                 \n",
      " conv3_1 (Conv2D)            (None, 56, 56, 256)       295168    \n",
      "                                                                 \n",
      " conv3_2 (Conv2D)            (None, 56, 56, 256)       590080    \n",
      "                                                                 \n",
      " conv3_3 (Conv2D)            (None, 56, 56, 256)       590080    \n",
      "                                                                 \n",
      " pool3 (MaxPooling2D)        (None, 28, 28, 256)       0         \n",
      "                                                                 \n",
      " conv4_1 (Conv2D)            (None, 28, 28, 512)       1180160   \n",
      "                                                                 \n",
      " conv4_2 (Conv2D)            (None, 28, 28, 512)       2359808   \n",
      "                                                                 \n",
      " conv4_3 (Conv2D)            (None, 28, 28, 512)       2359808   \n",
      "                                                                 \n",
      " pool4 (MaxPooling2D)        (None, 14, 14, 512)       0         \n",
      "                                                                 \n",
      " conv5_1 (Conv2D)            (None, 14, 14, 512)       2359808   \n",
      "                                                                 \n",
      " conv5_2 (Conv2D)            (None, 14, 14, 512)       2359808   \n",
      "                                                                 \n",
      " conv5_3 (Conv2D)            (None, 14, 14, 512)       2359808   \n",
      "                                                                 \n",
      " pool5 (MaxPooling2D)        (None, 7, 7, 512)         0         \n",
      "                                                                 \n",
      " flatten (Flatten)           (None, 25088)             0         \n",
      "                                                                 \n",
      "=================================================================\n",
      "Total params: 14,714,688\n",
      "Trainable params: 0\n",
      "Non-trainable params: 14,714,688\n",
      "_________________________________________________________________\n"
     ]
    }
   ],
   "source": [
    "model_old = Sequential()\n",
    "\n",
    "for layer in vggface.layers[:-6]:\n",
    "    model_old.add(layer)\n",
    "\n",
    "for layer in model_old.layers:\n",
    "    layer.trainable = False\n",
    "    \n",
    "model_old.summary()"
   ]
  },
  {
   "cell_type": "code",
   "execution_count": 85,
   "metadata": {},
   "outputs": [
    {
     "name": "stdout",
     "output_type": "stream",
     "text": [
      "1/1 [==============================] - 0s 115ms/step\n"
     ]
    },
    {
     "data": {
      "text/plain": [
       "(1, 25088)"
      ]
     },
     "execution_count": 85,
     "metadata": {},
     "output_type": "execute_result"
    }
   ],
   "source": [
    "test_input = np.random.random((1, 224, 224, 3))  # Replace with your input shape\n",
    "model_old.predict(test_input).shape"
   ]
  },
  {
   "cell_type": "code",
   "execution_count": 86,
   "metadata": {},
   "outputs": [
    {
     "name": "stdout",
     "output_type": "stream",
     "text": [
      "Model: \"sequential_28\"\n",
      "_________________________________________________________________\n",
      " Layer (type)                Output Shape              Param #   \n",
      "=================================================================\n",
      " sequential_27 (Sequential)  (None, 25088)             14714688  \n",
      "                                                                 \n",
      " dense_24 (Dense)            (None, 2048)              51382272  \n",
      "                                                                 \n",
      " dropout_7 (Dropout)         (None, 2048)              0         \n",
      "                                                                 \n",
      " dense_25 (Dense)            (None, 1)                 2049      \n",
      "                                                                 \n",
      "=================================================================\n",
      "Total params: 66,099,009\n",
      "Trainable params: 51,384,321\n",
      "Non-trainable params: 14,714,688\n",
      "_________________________________________________________________\n"
     ]
    }
   ],
   "source": [
    "model = Sequential([\n",
    "    Input(shape=(224, 224, 3)),\n",
    "    model_old,\n",
    "    # Flatten(),\n",
    "    Dense(FC, activation='relu'),\n",
    "    Dropout(dense_dropout),\n",
    "    Dense(num_classes, activation='sigmoid')\n",
    "])\n",
    "model.summary()"
   ]
  },
  {
   "cell_type": "code",
   "execution_count": 87,
   "metadata": {},
   "outputs": [],
   "source": [
    "model.compile(optimizer=Adam(adam_lr),\n",
    "              loss=loss\n",
    "              ,metrics=metrics)"
   ]
  },
  {
   "cell_type": "code",
   "execution_count": 88,
   "metadata": {},
   "outputs": [],
   "source": [
    "lrd = ReduceLROnPlateau(monitor = 'val_loss',\n",
    "                        patience = patience,\n",
    "                        verbose = verbose ,\n",
    "                        factor = factor,\n",
    "                        min_lr = min_lr)\n",
    "\n",
    "mcp = ModelCheckpoint(model_name, )\n",
    "\n",
    "es = EarlyStopping(verbose=verbose, patience=patience)"
   ]
  },
  {
   "cell_type": "code",
   "execution_count": 89,
   "metadata": {},
   "outputs": [
    {
     "name": "stdout",
     "output_type": "stream",
     "text": [
      "Accuracy before training\n",
      "182/182 [==============================] - 14s 72ms/step - loss: 0.6951 - accuracy: 0.4997\n",
      "Test Loss: 0.6950876116752625\n",
      "Test Accuracy: 0.4996563494205475\n",
      "Training the model\n",
      "Epoch 1/5\n",
      "1469/1469 [==============================] - 320s 217ms/step - loss: 0.1375 - accuracy: 0.9532 - val_loss: 0.0839 - val_accuracy: 0.9710 - lr: 0.0010\n",
      "Epoch 2/5\n",
      "1469/1469 [==============================] - 301s 205ms/step - loss: 0.1202 - accuracy: 0.9609 - val_loss: 0.0887 - val_accuracy: 0.9701 - lr: 0.0010\n",
      "Epoch 3/5\n",
      "1469/1469 [==============================] - 304s 207ms/step - loss: 0.1159 - accuracy: 0.9611 - val_loss: 0.0845 - val_accuracy: 0.9708 - lr: 0.0010\n",
      "Epoch 4/5\n",
      "1469/1469 [==============================] - ETA: 0s - loss: 0.1115 - accuracy: 0.9625\n",
      "Epoch 4: ReduceLROnPlateau reducing learning rate to 0.0005000000237487257.\n",
      "1469/1469 [==============================] - 303s 206ms/step - loss: 0.1115 - accuracy: 0.9625 - val_loss: 0.0956 - val_accuracy: 0.9698 - lr: 0.0010\n",
      "Epoch 5/5\n",
      "1469/1469 [==============================] - 301s 205ms/step - loss: 0.1056 - accuracy: 0.9652 - val_loss: 0.0758 - val_accuracy: 0.9717 - lr: 5.0000e-04\n",
      "Saving the model\n",
      "Accuracy after training\n",
      "182/182 [==============================] - 8s 44ms/step - loss: 0.0775 - accuracy: 0.9744\n",
      "Test Loss: 0.07754755020141602\n",
      "Test Accuracy: 0.9743986129760742\n"
     ]
    }
   ],
   "source": [
    "# Check the accuracy of the model before training\n",
    "print(\"Accuracy before training\")\n",
    "score = model.evaluate(test_generator)\n",
    "print(\"Test Loss:\", score[0])\n",
    "print(\"Test Accuracy:\", score[1])\n",
    "\n",
    "\n",
    "# Train the model\n",
    "print(\"Training the model\")\n",
    "# history = model.fit(train_generator,\n",
    "#                     epochs = epochs,\n",
    "#                     validation_data = validation_generator,\n",
    "#                     steps_per_epoch = steps_per_epoch,\n",
    "#                     validation_steps = validation_steps,\n",
    "#                     callbacks = [lrd, mcp])\n",
    "hist = model.fit(train_generator,\n",
    "                  steps_per_epoch = train_generator.samples // batch_size,\n",
    "                  validation_data = validation_generator, \n",
    "                  validation_steps = validation_generator.samples // batch_size,\n",
    "                  epochs = epochs,\n",
    "                  verbose = 1,\n",
    "                  callbacks=[lrd, mcp])\n",
    "# Save the model\n",
    "print(\"Saving the model\")\n",
    "model.save(model_name)\n",
    "\n",
    "# Check the accuracy of the model after training\n",
    "print(\"Accuracy after training\")\n",
    "score = model.evaluate(test_generator)\n",
    "print(\"Test Loss:\", score[0])\n",
    "print(\"Test Accuracy:\", score[1])"
   ]
  },
  {
   "cell_type": "code",
   "execution_count": 90,
   "metadata": {},
   "outputs": [
    {
     "data": {
      "image/png": "[encoded data removed]",
      "text/plain": [
       "<Figure size 640x480 with 1 Axes>"
      ]
     },
     "metadata": {},
     "output_type": "display_data"
    },
    {
     "data": {
      "text/plain": [
       "<Figure size 640x480 with 0 Axes>"
      ]
     },
     "metadata": {},
     "output_type": "display_data"
    }
   ],
   "source": [
    "import matplotlib.pyplot as plt\n",
    "acc = hist.history['accuracy']\n",
    "val_acc = hist.history['val_accuracy']\n",
    "loss = hist.history['loss']\n",
    "val_loss = hist.history['val_loss']\n",
    "\n",
    "epochs = range(len(acc))\n",
    "\n",
    "plt.plot(epochs, acc, 'g', label='Training accuracy')\n",
    "plt.plot(epochs, val_acc, 'y', label='Validation accuracy')\n",
    "plt.title('Training and validation accuracy')\n",
    "plt.legend(loc=0)\n",
    "plt.figure()\n",
    "plt.show()"
   ]
  },
  {
   "cell_type": "code",
   "execution_count": 92,
   "metadata": {},
   "outputs": [],
   "source": [
    "model = load_model('vggface_gender_9744.h5')"
   ]
  },
  {
   "cell_type": "code",
   "execution_count": 110,
   "metadata": {},
   "outputs": [
    {
     "name": "stdout",
     "output_type": "stream",
     "text": [
      "Loading the model\n",
      "Testing the model on a sample image\n",
      "1/1 [==============================] - 0s 12ms/step\n",
      "[[0.01874706]]\n"
     ]
    }
   ],
   "source": [
    "# Loading the model and testing it on a sample image\n",
    "print(\"Loading the model\")\n",
    "# model = load_model('model.h5')\n",
    "\n",
    "print(\"Testing the model on a sample image\")\n",
    "# sample_img_path = './my_friends/cumali.jpeg'\n",
    "sample_img_path = './my_friends/cemre2.jpg'\n",
    "# sample_img_path = './my_friends/bayzan.jpg'\n",
    "# sample_img_path = './my_friends/engin.jpg'\n",
    "# sample_img_path = './my_friends/halimcan.jpg'\n",
    "# sample_img_path = './my_friends/halim2.jpeg'\n",
    "# sample_img_path = './my_friends/cemre2.jpg'\n",
    "# sample_img_path = './my_friends/engin2.jpg'\n",
    "# sample_img_path = './my_friends/erto.jpg'\n",
    "# sample_img_path = './my_friends/harry.jpg'\n",
    "sample_img = tf.keras.preprocessing.image.load_img(sample_img_path, target_size=target_size)\n",
    "sample_img = tf.keras.preprocessing.image.img_to_array(sample_img)\n",
    "sample_img = np.expand_dims(sample_img, axis=0)\n",
    "sample_img = sample_img/255\n",
    "prediction = model.predict(sample_img)\n",
    "print(prediction)\n",
    "\n",
    "\n"
   ]
  }
 ],
 "metadata": {
  "kernelspec": {
   "display_name": "Python 3",
   "language": "python",
   "name": "python3"
  },
  "language_info": {
   "codemirror_mode": {
    "name": "ipython",
    "version": 3
   },
   "file_extension": ".py",
   "mimetype": "text/x-python",
   "name": "python",
   "nbconvert_exporter": "python",
   "pygments_lexer": "ipython3",
   "version": "3.10.13"
  }
 },
 "nbformat": 4,
 "nbformat_minor": 2
}
