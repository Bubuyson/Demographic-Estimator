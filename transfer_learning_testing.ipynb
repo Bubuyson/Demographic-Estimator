{
 "cells": [
  {
   "cell_type": "code",
   "execution_count": 1,
   "metadata": {},
   "outputs": [
    {
     "name": "stderr",
     "output_type": "stream",
     "text": [
      "c:\\Users\\iboba\\Desktop\\final_project\\.conda\\lib\\site-packages\\torchvision\\models\\_utils.py:208: UserWarning: The parameter 'pretrained' is deprecated since 0.13 and may be removed in the future, please use 'weights' instead.\n",
      "  warnings.warn(\n",
      "c:\\Users\\iboba\\Desktop\\final_project\\.conda\\lib\\site-packages\\torchvision\\models\\_utils.py:223: UserWarning: Arguments other than a weight enum or `None` for 'weights' are deprecated since 0.13 and may be removed in the future. The current behavior is equivalent to passing `weights=VGG16_Weights.IMAGENET1K_V1`. You can also use `weights=VGG16_Weights.DEFAULT` to get the most up-to-date weights.\n",
      "  warnings.warn(msg)\n"
     ]
    }
   ],
   "source": [
    "import torch\n",
    "import torchvision.models as models\n",
    "\n",
    "# Load a pre-trained VGG16 model\n",
    "vgg_model = models.vgg16(pretrained=True)"
   ]
  },
  {
   "cell_type": "code",
   "execution_count": 2,
   "metadata": {},
   "outputs": [],
   "source": [
    "num_features = vgg_model.classifier[6].in_features\n",
    "features = list(vgg_model.classifier.children())[:-1] # Remove last layer\n",
    "features.extend([torch.nn.Linear(num_features, 2)]) # Add our layer with 2 outputs\n",
    "vgg_model.classifier = torch.nn.Sequential(*features)"
   ]
  },
  {
   "cell_type": "code",
   "execution_count": 3,
   "metadata": {},
   "outputs": [],
   "source": [
    "device = torch.device(\"cuda:0\" if torch.cuda.is_available() else \"cpu\")\n",
    "vgg_model = vgg_model.to(device)"
   ]
  },
  {
   "cell_type": "code",
   "execution_count": 4,
   "metadata": {},
   "outputs": [],
   "source": [
    "from torchvision import transforms\n",
    "from torchvision.datasets import ImageFolder\n",
    "from torch.utils.data import DataLoader\n",
    "\n",
    "# Data augmentation and normalization for training\n",
    "# Just normalization for validation\n",
    "data_transforms = {\n",
    "    'gender_classification/Training': transforms.Compose([\n",
    "        transforms.RandomResizedCrop(224),\n",
    "        transforms.RandomHorizontalFlip(),\n",
    "        transforms.ToTensor(),\n",
    "        transforms.Normalize([0.485, 0.456, 0.406], [0.229, 0.224, 0.225])\n",
    "    ]),\n",
    "    'gender_classification/Validation': transforms.Compose([\n",
    "        transforms.Resize(256),\n",
    "        transforms.CenterCrop(224),\n",
    "        transforms.ToTensor(),\n",
    "        transforms.Normalize([0.485, 0.456, 0.406], [0.229, 0.224, 0.225])\n",
    "    ]),\n",
    "}\n"
   ]
  },
  {
   "cell_type": "code",
   "execution_count": 11,
   "metadata": {},
   "outputs": [],
   "source": [
    "image_datasets = {x: ImageFolder(f\"./{x}\", data_transforms[x])\n",
    "                  for x in ['gender_classification/Training', 'gender_classification/Validation']}\n",
    "dataloaders = {x: DataLoader(image_datasets[x], batch_size=4,\n",
    "                             shuffle=True, num_workers=4)\n",
    "              for x in ['gender_classification/Training', 'gender_classification/Validation']}"
   ]
  },
  {
   "cell_type": "code",
   "execution_count": 6,
   "metadata": {},
   "outputs": [],
   "source": [
    "criterion = torch.nn.CrossEntropyLoss()\n",
    "optimizer = torch.optim.SGD(vgg_model.parameters(), lr=0.001, momentum=0.9)"
   ]
  },
  {
   "cell_type": "code",
   "execution_count": 7,
   "metadata": {},
   "outputs": [],
   "source": [
    "def train_model(model, criterion, optimizer, num_epochs=25):\n",
    "    for epoch in range(num_epochs):\n",
    "        print(f'Epoch {epoch}/{num_epochs - 1}')\n",
    "        print('-' * 10)\n",
    "\n",
    "        # Each epoch has a training and validation phase\n",
    "        for phase in ['gender_classification/Training', 'gender_classification/Validation']:\n",
    "            if phase == 'gender_classification/Training':\n",
    "                model.train()  # Set model to training mode\n",
    "            else:\n",
    "                model.eval()   # Set model to evaluate mode\n",
    "\n",
    "            running_loss = 0.0\n",
    "            running_corrects = 0\n",
    "\n",
    "            # Iterate over data.\n",
    "            for inputs, labels in dataloaders[phase]:\n",
    "                # Move the inputs and labels to the same device as the model\n",
    "                inputs = inputs.to(device)\n",
    "                labels = labels.to(device)\n",
    "\n",
    "                optimizer.zero_grad()\n",
    "\n",
    "                # Forward pass\n",
    "                with torch.set_grad_enabled(phase == 'gender_classification/Training'):\n",
    "                    outputs = model(inputs)\n",
    "                    _, preds = torch.max(outputs, 1)\n",
    "                    loss = criterion(outputs, labels)\n",
    "\n",
    "                    # Backward pass and optimize in training phase\n",
    "                    if phase == 'gender_classification/Training':\n",
    "                        loss.backward()\n",
    "                        optimizer.step()\n",
    "\n",
    "                # Statistics\n",
    "                running_loss += loss.item() * inputs.size(0)\n",
    "                running_corrects += torch.sum(preds == labels.data)\n",
    "            epoch_loss = running_loss / len(image_datasets[phase])\n",
    "            epoch_acc = running_corrects.double() / len(image_datasets[phase])\n",
    "\n",
    "            print(f'{phase} Loss: {epoch_loss:.4f} Acc: {epoch_acc:.4f}')\n",
    "\n",
    "    return model"
   ]
  },
  {
   "cell_type": "code",
   "execution_count": 8,
   "metadata": {},
   "outputs": [],
   "source": [
    "def check_accuracy(model, phase):\n",
    "    model.eval()\n",
    "    running_corrects = 0\n",
    "\n",
    "    for inputs, labels in dataloaders[phase]:\n",
    "        outputs = model(inputs)\n",
    "        _, preds = torch.max(outputs, 1)\n",
    "        running_corrects += torch.sum(preds == labels.data)\n",
    "\n",
    "    acc = running_corrects.double() / len(image_datasets[phase])\n",
    "    print(f'{phase} Acc: {acc:.4f}')"
   ]
  },
  {
   "cell_type": "code",
   "execution_count": 9,
   "metadata": {},
   "outputs": [],
   "source": [
    "def save_model(model, path):\n",
    "    torch.save(model.state_dict(), path)"
   ]
  },
  {
   "cell_type": "code",
   "execution_count": null,
   "metadata": {},
   "outputs": [],
   "source": [
    "# This "
   ]
  },
  {
   "cell_type": "code",
   "execution_count": 13,
   "metadata": {},
   "outputs": [
    {
     "name": "stdout",
     "output_type": "stream",
     "text": [
      "Epoch 0/9\n",
      "----------\n",
      "gender_classification/Training Loss: 0.7767 Acc: 0.5714\n",
      "gender_classification/Validation Loss: 0.7299 Acc: 0.4571\n",
      "Epoch 1/9\n",
      "----------\n",
      "gender_classification/Training Loss: 0.7946 Acc: 0.5102\n",
      "gender_classification/Validation Loss: 0.7351 Acc: 0.5571\n",
      "Epoch 2/9\n",
      "----------\n",
      "gender_classification/Training Loss: 0.7946 Acc: 0.3673\n",
      "gender_classification/Validation Loss: 0.7002 Acc: 0.5571\n",
      "Epoch 3/9\n",
      "----------\n",
      "gender_classification/Training Loss: 0.6618 Acc: 0.6531\n",
      "gender_classification/Validation Loss: 0.7207 Acc: 0.4571\n",
      "Epoch 4/9\n",
      "----------\n",
      "gender_classification/Training Loss: 0.6590 Acc: 0.6735\n",
      "gender_classification/Validation Loss: 0.6683 Acc: 0.5714\n",
      "Epoch 5/9\n",
      "----------\n",
      "gender_classification/Training Loss: 0.7287 Acc: 0.4898\n",
      "gender_classification/Validation Loss: 0.7318 Acc: 0.5571\n",
      "Epoch 6/9\n",
      "----------\n",
      "gender_classification/Training Loss: 0.7622 Acc: 0.5714\n",
      "gender_classification/Validation Loss: 0.6628 Acc: 0.6857\n",
      "Epoch 7/9\n",
      "----------\n",
      "gender_classification/Training Loss: 0.6886 Acc: 0.4694\n",
      "gender_classification/Validation Loss: 0.6730 Acc: 0.6000\n",
      "Epoch 8/9\n",
      "----------\n",
      "gender_classification/Training Loss: 0.6834 Acc: 0.6122\n",
      "gender_classification/Validation Loss: 0.6571 Acc: 0.6714\n",
      "Epoch 9/9\n",
      "----------\n",
      "gender_classification/Training Loss: 0.6751 Acc: 0.5918\n",
      "gender_classification/Validation Loss: 0.6350 Acc: 0.7286\n"
     ]
    }
   ],
   "source": [
    "# Train and evaluate\n",
    "vgg_model = train_model(vgg_model, criterion, optimizer, num_epochs=10)\n",
    "# This model is based on VGG16 but with a different classifier layer (2 outputs instead of 1000)"
   ]
  }
 ],
 "metadata": {
  "kernelspec": {
   "display_name": "Python 3",
   "language": "python",
   "name": "python3"
  },
  "language_info": {
   "codemirror_mode": {
    "name": "ipython",
    "version": 3
   },
   "file_extension": ".py",
   "mimetype": "text/x-python",
   "name": "python",
   "nbconvert_exporter": "python",
   "pygments_lexer": "ipython3",
   "version": "3.10.13"
  }
 },
 "nbformat": 4,
 "nbformat_minor": 2
}
